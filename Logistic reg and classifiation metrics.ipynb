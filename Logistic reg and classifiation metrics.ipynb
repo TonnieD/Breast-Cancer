{
 "cells": [
  {
   "cell_type": "code",
   "execution_count": null,
   "id": "9c3b9716-45e5-42bf-ab7f-fa4169f38e87",
   "metadata": {},
   "outputs": [],
   "source": [
    "\n",
    "import pandas as pd\n",
    "import numpy as np\n",
    "import matplotlib.pyplot as plt\n",
    "import seaborn as sns\n",
    "from sklearn.linear_model import LogisticRegression\n",
    "from sklearn.model_selection import train_test_split\n",
    "from sklearn.metrics import(classification_report, r2_score, confusion_matrix, ConfusionMatrixDisplay,\n",
    "                            accuracy_score, f1_score, roc_auc_score, precision_score, recall_score)"
   ]
  }
 ],
 "metadata": {
  "kernelspec": {
   "display_name": "Python [conda env:base] *",
   "language": "python",
   "name": "conda-base-py"
  },
  "language_info": {
   "codemirror_mode": {
    "name": "ipython",
    "version": 3
   },
   "file_extension": ".py",
   "mimetype": "text/x-python",
   "name": "python",
   "nbconvert_exporter": "python",
   "pygments_lexer": "ipython3",
   "version": "3.11.7"
  }
 },
 "nbformat": 4,
 "nbformat_minor": 5
}
